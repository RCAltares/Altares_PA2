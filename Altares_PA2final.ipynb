{
 "cells": [
  {
   "cell_type": "code",
   "execution_count": 35,
   "id": "5502ce5c-a735-4258-b427-78aaaf9dd517",
   "metadata": {},
   "outputs": [
    {
     "name": "stdout",
     "output_type": "stream",
     "text": [
      "Original Matrix:\n",
      " [[0.62948028 0.15624803 0.52574373 0.76541661 0.61437917]\n",
      " [0.69400354 0.50530766 0.25183866 0.48092789 0.3846668 ]\n",
      " [0.17777893 0.0976557  0.32424627 0.67177855 0.89572309]\n",
      " [0.4723703  0.55734549 0.10259798 0.49760881 0.32063765]\n",
      " [0.629599   0.82623604 0.67068062 0.4100946  0.83218283]]\n",
      "\n",
      "Normalized Matrix:\n",
      " [[ 0.57326276 -1.51840942  0.11475039  1.17409725  0.50651634]\n",
      " [ 0.85845366  0.02442358 -1.09590172 -0.08333427 -0.50880539]\n",
      " [-1.42324352 -1.77738575 -0.7758623   0.76021984  1.75004794]\n",
      " [-0.12115859  0.25442919 -1.75554104 -0.00960514 -0.7918123 ]\n",
      " [ 0.57378753  1.44291727  0.75536705 -0.39641527  1.46920191]]\n",
      "\n",
      "Normalization complete! The normalized matrix is saved as 'X_normalized.npy'.\n"
     ]
    }
   ],
   "source": [
    "#Altares, Raphael Carlos A.\n",
    "#NORMALIZATION PROBLEM\n",
    "\n",
    "import numpy as np\n",
    "\n",
    "# make a 5x5 matrix with random numbers\n",
    "X = np.random.random((5, 5))\n",
    "print(\"Original Matrix:\\n\", X)  # Display the original matrix\n",
    "\n",
    "# find the mean and standard deviation of the matrix\n",
    "mean = X.mean()  # Calculate the average of all values\n",
    "std_dev = X.std()  # Calculate how spread out the values are\n",
    "\n",
    "# normalize the matrix (subtract mean and divide by standard deviation)\n",
    "X_normalized = (X - mean) / std_dev\n",
    "print(\"\\nNormalized Matrix:\\n\", X_normalized)  # Display the normalized matrix\n",
    "\n",
    "# save the normalized matrix to a file called 'X_normalized.npy'\n",
    "np.save('X_normalized.npy', X_normalized)\n",
    "\n",
    "print(\"\\nNormalization complete! The normalized matrix is saved as 'X_normalized.npy'.\")\n",
    "\n"
   ]
  },
  {
   "cell_type": "code",
   "execution_count": 33,
   "id": "2398a78f-c3e5-472c-8c37-0942c546b059",
   "metadata": {},
   "outputs": [
    {
     "name": "stdout",
     "output_type": "stream",
     "text": [
      "10x10 Matrix of Squares:\n",
      " [[    1     4     9    16    25    36    49    64    81   100]\n",
      " [  121   144   169   196   225   256   289   324   361   400]\n",
      " [  441   484   529   576   625   676   729   784   841   900]\n",
      " [  961  1024  1089  1156  1225  1296  1369  1444  1521  1600]\n",
      " [ 1681  1764  1849  1936  2025  2116  2209  2304  2401  2500]\n",
      " [ 2601  2704  2809  2916  3025  3136  3249  3364  3481  3600]\n",
      " [ 3721  3844  3969  4096  4225  4356  4489  4624  4761  4900]\n",
      " [ 5041  5184  5329  5476  5625  5776  5929  6084  6241  6400]\n",
      " [ 6561  6724  6889  7056  7225  7396  7569  7744  7921  8100]\n",
      " [ 8281  8464  8649  8836  9025  9216  9409  9604  9801 10000]]\n",
      "\n",
      "Elements Divisible by 3:\n",
      " [   9   36   81  144  225  324  441  576  729  900 1089 1296 1521 1764\n",
      " 2025 2304 2601 2916 3249 3600 3969 4356 4761 5184 5625 6084 6561 7056\n",
      " 7569 8100 8649 9216 9801]\n",
      "\n",
      "Done! The elements divisible by 3 are saved as 'div_by_3.npy'.\n"
     ]
    }
   ],
   "source": [
    "#Altares, Raphael Carlos\n",
    "#Divisible by 3 Problem\n",
    "\n",
    "import numpy as np\n",
    "\n",
    "# create a list of numbers from 1 to 100\n",
    "numbers = np.arange(1, 101)\n",
    "\n",
    "# square each number \n",
    "squares = numbers**2\n",
    "\n",
    "# reshape the list into a 10x10 matrix\n",
    "A = squares.reshape(10, 10)\n",
    "\n",
    "# find elements in the matrix that are divisible by 3\n",
    "div_by_3 = A[A % 3 == 0]\n",
    "\n",
    "# save the result to a file named 'div_by_3.npy'\n",
    "np.save('div_by_3.npy', div_by_3)\n",
    "\n",
    "# print matrices for confirmation \n",
    "print(\"10x10 Matrix of Squares:\\n\", A)\n",
    "print(\"\\nElements Divisible by 3:\\n\", div_by_3)\n",
    "\n",
    "print(\"\\nDone! The elements divisible by 3 are saved as 'div_by_3.npy'.\")\n"
   ]
  }
 ],
 "metadata": {
  "kernelspec": {
   "display_name": "Python 3 (ipykernel)",
   "language": "python",
   "name": "python3"
  },
  "language_info": {
   "codemirror_mode": {
    "name": "ipython",
    "version": 3
   },
   "file_extension": ".py",
   "mimetype": "text/x-python",
   "name": "python",
   "nbconvert_exporter": "python",
   "pygments_lexer": "ipython3",
   "version": "3.12.4"
  }
 },
 "nbformat": 4,
 "nbformat_minor": 5
}
