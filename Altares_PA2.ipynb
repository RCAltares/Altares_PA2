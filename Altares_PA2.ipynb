{
 "cells": [
  {
   "cell_type": "code",
   "execution_count": 7,
   "id": "5502ce5c-a735-4258-b427-78aaaf9dd517",
   "metadata": {},
   "outputs": [
    {
     "name": "stdout",
     "output_type": "stream",
     "text": [
      "Done! The normalized array is saved as 'X_normalized.npy'.\n"
     ]
    }
   ],
   "source": [
    "#Altares, Raphael Carlos A.\n",
    "#NORMALIZATION PROBLEM\n",
    "\n",
    "import numpy as np\n",
    "\n",
    "# making a 5x5 matrix \n",
    "X = np.random.random((5, 5))\n",
    "\n",
    "# find the average and the standard deviation of the numbers\n",
    "mean = X.mean()\n",
    "std_dev = X.std()\n",
    "\n",
    "# normalize by subtracting the mean and dividing by the standard deviation\n",
    "X_normalized = (X - mean) / std_dev\n",
    "\n",
    "# save the normalized matrix to a file\n",
    "np.save('X_normalized.npy', X_normalized)\n",
    "\n",
    "print(\"Done! The normalized array is saved as 'X_normalized.npy'.\")\n"
   ]
  },
  {
   "cell_type": "code",
   "execution_count": 13,
   "id": "2398a78f-c3e5-472c-8c37-0942c546b059",
   "metadata": {},
   "outputs": [
    {
     "name": "stdout",
     "output_type": "stream",
     "text": [
      "Done! The elements divisible by 3 are saved in 'div_by_3.npy'.\n"
     ]
    }
   ],
   "source": [
    "#Altares, Raphael Carlos\n",
    "#Divisible by 3 Problem\n",
    "\n",
    "import numpy as np\n",
    "\n",
    "# creating an array with numbers 1 to 100\n",
    "numbers = np.arange(1, 101)\n",
    "\n",
    "# square each number to get the squares\n",
    "squares = numbers**2\n",
    "\n",
    "# reshape the array to 10x10\n",
    "A = squares.reshape(10, 10)\n",
    "\n",
    "# find elements that are divisible by 3\n",
    "div_by_3 = A[A % 3 == 0]\n",
    "\n",
    "# save the result as div_by_3.npy\n",
    "np.save('div_by_3.npy', div_by_3)\n",
    "\n",
    "print(\"Done! The elements divisible by 3 are saved in 'div_by_3.npy'.\")\n"
   ]
  }
 ],
 "metadata": {
  "kernelspec": {
   "display_name": "Python 3 (ipykernel)",
   "language": "python",
   "name": "python3"
  },
  "language_info": {
   "codemirror_mode": {
    "name": "ipython",
    "version": 3
   },
   "file_extension": ".py",
   "mimetype": "text/x-python",
   "name": "python",
   "nbconvert_exporter": "python",
   "pygments_lexer": "ipython3",
   "version": "3.12.4"
  }
 },
 "nbformat": 4,
 "nbformat_minor": 5
}
